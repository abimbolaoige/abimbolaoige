{
  "cells": [
    {
      "cell_type": "markdown",
      "metadata": {
        "id": "view-in-github",
        "colab_type": "text"
      },
      "source": [
        "<a href=\"https://colab.research.google.com/github/abimbolaoige/abimbolaoige/blob/main/Mini_Project1_Python.ipynb\" target=\"_parent\"><img src=\"https://colab.research.google.com/assets/colab-badge.svg\" alt=\"Open In Colab\"/></a>"
      ]
    },
    {
      "cell_type": "code",
      "execution_count": null,
      "id": "dca4bb7d-0ae5-403f-9be0-7c8df77af51c",
      "metadata": {
        "id": "dca4bb7d-0ae5-403f-9be0-7c8df77af51c"
      },
      "outputs": [],
      "source": [
        "### This project covers:\\n\",\n",
        "        \"\\n\",\n",
        "        \"1. Python Data Structures\\n\",\n",
        "        \"2. Loops\\n\",\n",
        "        \"3. If Statements\\n\",\n",
        "        \"4. List Comprehension\\n\",\n",
        "        \"5. Lambda Functions\""
      ]
    },
    {
      "cell_type": "markdown",
      "id": "d30c1764-1d52-4d30-a06d-219c73cb704a",
      "metadata": {
        "id": "d30c1764-1d52-4d30-a06d-219c73cb704a"
      },
      "source": [
        "### Question 1: Filter Even Numbers"
      ]
    },
    {
      "cell_type": "code",
      "execution_count": null,
      "id": "6b2db59f-4149-44c8-8afa-03ac89075621",
      "metadata": {
        "id": "6b2db59f-4149-44c8-8afa-03ac89075621"
      },
      "outputs": [],
      "source": [
        "numbers = [1, 2, 3, 4, 5, 6, 7, 8, 9, 10]"
      ]
    },
    {
      "cell_type": "code",
      "execution_count": null,
      "id": "c1165583-87b7-4be6-868e-91f7995062cb",
      "metadata": {
        "id": "c1165583-87b7-4be6-868e-91f7995062cb"
      },
      "outputs": [],
      "source": [
        "even = []\n",
        "odd = []\n",
        "for num in numbers:\n",
        "    if num % 2 == 0:\n",
        "        even.append(num)\n",
        "    else:\n",
        "        odd.append(num)\n",
        "grouped_numbers = {'even': even, 'odd': odd}\n"
      ]
    },
    {
      "cell_type": "code",
      "execution_count": null,
      "id": "dd243f04-788d-4b67-be0e-8976035336c4",
      "metadata": {
        "id": "dd243f04-788d-4b67-be0e-8976035336c4",
        "outputId": "76e32488-2756-405b-cafd-a42050ce6372"
      },
      "outputs": [
        {
          "data": {
            "text/plain": [
              "[2, 4, 6, 8, 10]"
            ]
          },
          "execution_count": 32,
          "metadata": {},
          "output_type": "execute_result"
        }
      ],
      "source": [
        "even[:]"
      ]
    },
    {
      "cell_type": "code",
      "execution_count": null,
      "id": "94c1917f-5b46-4162-a92d-de611eb0912f",
      "metadata": {
        "id": "94c1917f-5b46-4162-a92d-de611eb0912f",
        "outputId": "44871be3-d087-4ee9-dd8d-d53d6e3fe371"
      },
      "outputs": [
        {
          "data": {
            "text/plain": [
              "[1, 3, 5, 7, 9]"
            ]
          },
          "execution_count": 14,
          "metadata": {},
          "output_type": "execute_result"
        }
      ],
      "source": [
        "odd[:]"
      ]
    },
    {
      "cell_type": "markdown",
      "id": "8e467ba4-e406-4112-b3be-12a665cc6f49",
      "metadata": {
        "id": "8e467ba4-e406-4112-b3be-12a665cc6f49"
      },
      "source": [
        "### Question 2: Square Numbers Using Lambda"
      ]
    },
    {
      "cell_type": "code",
      "execution_count": null,
      "id": "b7938284-23eb-4cc0-a72e-a59f66e9738b",
      "metadata": {
        "id": "b7938284-23eb-4cc0-a72e-a59f66e9738b"
      },
      "outputs": [],
      "source": [
        "numbers = [1, 2, 3, 4, 5]"
      ]
    },
    {
      "cell_type": "code",
      "execution_count": null,
      "id": "0cf38180-7e73-4f35-92e5-00c32cd60a07",
      "metadata": {
        "id": "0cf38180-7e73-4f35-92e5-00c32cd60a07",
        "outputId": "7b2df023-955c-4a7e-b01d-cbe4aa5c64e6"
      },
      "outputs": [
        {
          "data": {
            "text/plain": [
              "[1, 2, 3, 4, 5]"
            ]
          },
          "execution_count": 8,
          "metadata": {},
          "output_type": "execute_result"
        }
      ],
      "source": [
        "numbers[:]"
      ]
    },
    {
      "cell_type": "code",
      "execution_count": null,
      "id": "738ae11a-edc7-4f54-b19d-26618c23f442",
      "metadata": {
        "id": "738ae11a-edc7-4f54-b19d-26618c23f442",
        "outputId": "01751cbf-fa9b-4e37-ac25-339b4e4e2d53"
      },
      "outputs": [
        {
          "data": {
            "text/plain": [
              "<function __main__.<lambda>(x)>"
            ]
          },
          "execution_count": 9,
          "metadata": {},
          "output_type": "execute_result"
        }
      ],
      "source": [
        "lambda x: x * x\n"
      ]
    },
    {
      "cell_type": "code",
      "execution_count": null,
      "id": "2de41be8-8895-471f-a52f-efdf4fd586ad",
      "metadata": {
        "id": "2de41be8-8895-471f-a52f-efdf4fd586ad"
      },
      "outputs": [],
      "source": [
        "numbers = [1, 2, 3, 4, 5]\n",
        "squared_numbers = list(map(lambda x: x * x, numbers))\n"
      ]
    },
    {
      "cell_type": "code",
      "execution_count": null,
      "id": "f69cda5e-848f-47b4-9a84-9832d6036527",
      "metadata": {
        "id": "f69cda5e-848f-47b4-9a84-9832d6036527",
        "outputId": "9fbf7d3a-f43f-49ce-d803-4eb5b60ced41"
      },
      "outputs": [
        {
          "name": "stdout",
          "output_type": "stream",
          "text": [
            "[1, 4, 9, 16, 25]\n"
          ]
        }
      ],
      "source": [
        "print(squared_numbers)\n"
      ]
    },
    {
      "cell_type": "markdown",
      "id": "3d551421-c3ab-4d81-81e9-c9b22e9e5fce",
      "metadata": {
        "id": "3d551421-c3ab-4d81-81e9-c9b22e9e5fce"
      },
      "source": [
        "### Question 3: Nested Loop for Matrix Transposition"
      ]
    },
    {
      "cell_type": "markdown",
      "id": "18da5adc-51a5-4bfe-b768-ff6d2030efa7",
      "metadata": {
        "id": "18da5adc-51a5-4bfe-b768-ff6d2030efa7"
      },
      "source": [
        "Given matrix\\n\",\n",
        "        \"matrix = [\\n\",\n",
        "        \"    [1, 2, 3],\\n\",\n",
        "        \"    [4, 5, 6],\\n\",\n",
        "        \"    [7, 8, 9]\\n\","
      ]
    },
    {
      "cell_type": "code",
      "execution_count": null,
      "id": "131eef81-11c8-4fc7-aee2-5ae70d5fbc18",
      "metadata": {
        "id": "131eef81-11c8-4fc7-aee2-5ae70d5fbc18"
      },
      "outputs": [],
      "source": [
        "matrix = [[1, 2, 3], [4, 5, 6], [7, 8, 9]]\n",
        "\n",
        "transposed_matrix = [[0 for _ in range(len(matrix))] for _ in range(len(matrix[0]))]\n",
        "for i in range(len(matrix)):\n",
        "    for j in range(len(matrix[0])):\n",
        "        transposed_matrix[j][i] = matrix[i][j]\n"
      ]
    },
    {
      "cell_type": "code",
      "execution_count": null,
      "id": "463be75d-26b6-46bf-89ab-bd47c93a122b",
      "metadata": {
        "id": "463be75d-26b6-46bf-89ab-bd47c93a122b",
        "outputId": "38835952-56a6-48ed-c1d5-e21bc7f15223"
      },
      "outputs": [
        {
          "name": "stdout",
          "output_type": "stream",
          "text": [
            "[[1, 4, 7], [2, 5, 8], [3, 6, 9]]\n"
          ]
        }
      ],
      "source": [
        "print(transposed_matrix)"
      ]
    },
    {
      "cell_type": "markdown",
      "id": "27da0420-a090-4562-80d6-598317b65924",
      "metadata": {
        "id": "27da0420-a090-4562-80d6-598317b65924"
      },
      "source": [
        "### Question 4 Flatten a Nested List\\n\","
      ]
    },
    {
      "cell_type": "code",
      "execution_count": null,
      "id": "42d8be17-d880-405c-bd8b-da86f3a59d2b",
      "metadata": {
        "id": "42d8be17-d880-405c-bd8b-da86f3a59d2b"
      },
      "outputs": [],
      "source": [
        "nested_list = [[1, 2, 3], [4, 5], [6, 7, 8, 9]]"
      ]
    },
    {
      "cell_type": "code",
      "execution_count": null,
      "id": "4e19b52d-fe3b-4475-b3ff-b9fc98fbed82",
      "metadata": {
        "id": "4e19b52d-fe3b-4475-b3ff-b9fc98fbed82",
        "outputId": "a5714151-0c16-4628-cb78-6110f2d31353"
      },
      "outputs": [
        {
          "data": {
            "text/plain": [
              "[[1, 2, 3], [4, 5], [6, 7, 8, 9]]"
            ]
          },
          "execution_count": 2,
          "metadata": {},
          "output_type": "execute_result"
        }
      ],
      "source": [
        "nested_list[:]"
      ]
    },
    {
      "cell_type": "code",
      "execution_count": null,
      "id": "d151e065-fddd-4a2a-98b2-b4894a6efbea",
      "metadata": {
        "id": "d151e065-fddd-4a2a-98b2-b4894a6efbea"
      },
      "outputs": [],
      "source": [
        "flattened_list = []\n",
        "for sublist in nested_list:\n",
        "    for item in sublist:\n",
        "        flattened_list.append(item)"
      ]
    },
    {
      "cell_type": "code",
      "execution_count": null,
      "id": "ad39f175-74ad-40e5-86d2-208d4934fd24",
      "metadata": {
        "id": "ad39f175-74ad-40e5-86d2-208d4934fd24",
        "outputId": "c49012b8-a116-4a11-df2d-72532952c773"
      },
      "outputs": [
        {
          "name": "stdout",
          "output_type": "stream",
          "text": [
            "[1, 2, 3, 4, 5, 6, 7, 8, 9]\n"
          ]
        }
      ],
      "source": [
        "print(flattened_list)"
      ]
    },
    {
      "cell_type": "markdown",
      "id": "b4d4c7af-da5a-4752-8167-4fcb249317b7",
      "metadata": {
        "id": "b4d4c7af-da5a-4752-8167-4fcb249317b7"
      },
      "source": [
        "### *Question 5: Dictionary from Two Lists"
      ]
    },
    {
      "cell_type": "code",
      "execution_count": null,
      "id": "a41890cc-a6d1-4ee1-a813-8fb92b65a2f6",
      "metadata": {
        "id": "a41890cc-a6d1-4ee1-a813-8fb92b65a2f6"
      },
      "outputs": [],
      "source": [
        "keys = ['name', 'age', 'city'],\n",
        "values = ['Alice', 25, 'New York']"
      ]
    },
    {
      "cell_type": "code",
      "execution_count": null,
      "id": "a19127df-fdd9-4623-a7ae-a03c1b50a0cd",
      "metadata": {
        "id": "a19127df-fdd9-4623-a7ae-a03c1b50a0cd"
      },
      "outputs": [],
      "source": [
        "my_dict = {}"
      ]
    },
    {
      "cell_type": "code",
      "execution_count": null,
      "id": "4cae7112-e8fb-482f-b6aa-cb396aa0cc33",
      "metadata": {
        "id": "4cae7112-e8fb-482f-b6aa-cb396aa0cc33"
      },
      "outputs": [],
      "source": [
        "for i in range(len(keys)):\n",
        "      if i < len(values):\n",
        "        my_dict[keys[i]] = values[i]\n"
      ]
    },
    {
      "cell_type": "code",
      "execution_count": null,
      "id": "09d68c9a-4a48-41e8-af16-dc384c353446",
      "metadata": {
        "id": "09d68c9a-4a48-41e8-af16-dc384c353446",
        "outputId": "246d6178-c1a8-487c-f7df-232d2c8d8a8b"
      },
      "outputs": [
        {
          "name": "stdout",
          "output_type": "stream",
          "text": [
            "{'name': 'Alice', 'age': 25, 'city': 'New York'}\n"
          ]
        }
      ],
      "source": [
        "print(my_dict)"
      ]
    },
    {
      "cell_type": "markdown",
      "id": "86ab1c3a-59b8-4a71-963e-e17158422f53",
      "metadata": {
        "id": "86ab1c3a-59b8-4a71-963e-e17158422f53"
      },
      "source": [
        "### Question 6: Filter and Transform Dictionary"
      ]
    },
    {
      "cell_type": "code",
      "execution_count": null,
      "id": "ab79113e-d64f-45a2-8ef1-b20dbd37984e",
      "metadata": {
        "id": "ab79113e-d64f-45a2-8ef1-b20dbd37984e"
      },
      "outputs": [],
      "source": [
        "students = {\n",
        "    'Alice': 85,\n",
        "    'Bob': 75,\n",
        "    'Charlie': 95,\n",
        "    'David': 65,\n",
        "    'Eve': 50\n",
        "}"
      ]
    },
    {
      "cell_type": "code",
      "execution_count": null,
      "id": "f0ecebdc-72fc-4b18-82a9-c9461a88663a",
      "metadata": {
        "id": "f0ecebdc-72fc-4b18-82a9-c9461a88663a"
      },
      "outputs": [],
      "source": [
        "# Use filter and lambda to select students who scored more than 70\n",
        "passed = filter(lambda item: item[1] > 70, students.items())"
      ]
    },
    {
      "cell_type": "code",
      "execution_count": null,
      "id": "06933189-028a-4536-b636-4bd08a92aac3",
      "metadata": {
        "id": "06933189-028a-4536-b636-4bd08a92aac3"
      },
      "outputs": [],
      "source": [
        "# Use dictionary comprehension to add 5 bonus points to their scores\n",
        "passed_students = {name: score + 5 for name, score in passed}"
      ]
    },
    {
      "cell_type": "code",
      "execution_count": null,
      "id": "a8176605-0649-4644-9081-c002474803bc",
      "metadata": {
        "id": "a8176605-0649-4644-9081-c002474803bc",
        "outputId": "33185698-8c6c-4e62-b976-4a023a6b303b"
      },
      "outputs": [
        {
          "name": "stdout",
          "output_type": "stream",
          "text": [
            "{'Alice': 90, 'Bob': 80, 'Charlie': 100}\n"
          ]
        }
      ],
      "source": [
        "print(passed_students)\n"
      ]
    },
    {
      "cell_type": "markdown",
      "id": "59aaaf64-5658-4211-9446-3b3167528e27",
      "metadata": {
        "id": "59aaaf64-5658-4211-9446-3b3167528e27"
      },
      "source": [
        "### Question 7: Grouping Elements by Parity"
      ]
    },
    {
      "cell_type": "code",
      "execution_count": null,
      "id": "ec48617e-5e2a-48f7-b04e-a055437f18f8",
      "metadata": {
        "id": "ec48617e-5e2a-48f7-b04e-a055437f18f8"
      },
      "outputs": [],
      "source": [
        "numbers = [1, 2, 3, 4, 5, 6, 7, 8, 9, 10]"
      ]
    },
    {
      "cell_type": "code",
      "execution_count": null,
      "id": "8f96ddca-647c-4cdd-8082-96978b563017",
      "metadata": {
        "id": "8f96ddca-647c-4cdd-8082-96978b563017"
      },
      "outputs": [],
      "source": [
        "grouped_numbers = {\n",
        "    'even': [num for num in numbers if num % 2 == 0],\n",
        "    'odd': [num for num in numbers if num % 2 != 0]\n",
        "}"
      ]
    },
    {
      "cell_type": "code",
      "execution_count": null,
      "id": "3d9e7fbb-3076-4257-a20f-aad66983d4b9",
      "metadata": {
        "id": "3d9e7fbb-3076-4257-a20f-aad66983d4b9",
        "outputId": "64ff94a0-c729-4bf1-e0e4-4f0dd892f82d"
      },
      "outputs": [
        {
          "name": "stdout",
          "output_type": "stream",
          "text": [
            "{'even': [2, 4, 6, 8, 10], 'odd': [1, 3, 5, 7, 9]}\n"
          ]
        }
      ],
      "source": [
        "print(grouped_numbers)"
      ]
    },
    {
      "cell_type": "markdown",
      "id": "292938d3-a7b2-41e8-bb9d-11674858a12d",
      "metadata": {
        "id": "292938d3-a7b2-41e8-bb9d-11674858a12d"
      },
      "source": [
        "### Question 8: Fibonacci Sequence Generator"
      ]
    },
    {
      "cell_type": "code",
      "execution_count": null,
      "id": "91fab20f-738f-47cc-ba6c-08d345e446da",
      "metadata": {
        "id": "91fab20f-738f-47cc-ba6c-08d345e446da"
      },
      "outputs": [],
      "source": [
        "n = 10"
      ]
    },
    {
      "cell_type": "code",
      "execution_count": null,
      "id": "5999dcd3-88a4-4a2d-b99f-de481ffb429d",
      "metadata": {
        "id": "5999dcd3-88a4-4a2d-b99f-de481ffb429d"
      },
      "outputs": [],
      "source": [
        "fibonacci = [0, 1]\n",
        "n = 10"
      ]
    },
    {
      "cell_type": "code",
      "execution_count": null,
      "id": "87733b41-ba8e-43ef-b7f5-f6ce3fd86b45",
      "metadata": {
        "id": "87733b41-ba8e-43ef-b7f5-f6ce3fd86b45"
      },
      "outputs": [],
      "source": [
        "# Only generate more if n > 2\n",
        "if n > 2:\n",
        "    for i in range(2, n):\n",
        "        next_number = fibonacci[i - 1] + fibonacci[i - 2]\n",
        "        fibonacci.append(next_number)"
      ]
    },
    {
      "cell_type": "code",
      "execution_count": null,
      "id": "49cdfba0-daf8-483e-b60b-d042262a81a6",
      "metadata": {
        "id": "49cdfba0-daf8-483e-b60b-d042262a81a6"
      },
      "outputs": [],
      "source": [
        "# If n is less than 2, slice the list to contain only n elements\n",
        "fibonacci = fibonacci[:n]"
      ]
    },
    {
      "cell_type": "code",
      "execution_count": null,
      "id": "bab9f70b-0485-4093-ac69-331742c2e6c1",
      "metadata": {
        "id": "bab9f70b-0485-4093-ac69-331742c2e6c1",
        "outputId": "5b929a5c-e74d-4285-a81c-53f700bddb68"
      },
      "outputs": [
        {
          "name": "stdout",
          "output_type": "stream",
          "text": [
            "[0, 1, 1, 2, 3, 5, 8, 13, 21, 34]\n"
          ]
        }
      ],
      "source": [
        "print(fibonacci)"
      ]
    },
    {
      "cell_type": "code",
      "execution_count": null,
      "id": "f405c8d7-bc18-466d-9517-af066a0798f6",
      "metadata": {
        "id": "f405c8d7-bc18-466d-9517-af066a0798f6"
      },
      "outputs": [],
      "source": []
    }
  ],
  "metadata": {
    "kernelspec": {
      "display_name": "Python [conda env:base] *",
      "language": "python",
      "name": "conda-base-py"
    },
    "language_info": {
      "codemirror_mode": {
        "name": "ipython",
        "version": 3
      },
      "file_extension": ".py",
      "mimetype": "text/x-python",
      "name": "python",
      "nbconvert_exporter": "python",
      "pygments_lexer": "ipython3",
      "version": "3.12.7"
    },
    "colab": {
      "provenance": [],
      "include_colab_link": true
    }
  },
  "nbformat": 4,
  "nbformat_minor": 5
}